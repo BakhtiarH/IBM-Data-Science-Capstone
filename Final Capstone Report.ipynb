{
 "cells": [
  {
   "cell_type": "markdown",
   "metadata": {},
   "source": [
    "# Final Capstone Project"
   ]
  },
  {
   "cell_type": "markdown",
   "metadata": {},
   "source": [
    "## The Battle of Neighborhoods (Report)"
   ]
  },
  {
   "cell_type": "markdown",
   "metadata": {},
   "source": [
    "## Business Problem"
   ]
  },
  {
   "cell_type": "markdown",
   "metadata": {},
   "source": [
    " *A new real-estate business in New Delhi India has recently opened. Their objective is to provide sound advise to thier clients about property prices across the city which would  help them make good decisions while purchasing a property which would best suit thier needs. Aside from the price they would also like to know what different neighbourhoods offer in the communities they are based in such as different restaurants, cafes and venues which can also them make better choices* "
   ]
  },
  {
   "cell_type": "markdown",
   "metadata": {},
   "source": [
    "# Data Description "
   ]
  },
  {
   "cell_type": "markdown",
   "metadata": {},
   "source": [
    "*We will be using data from multiple sources to help the real-estate company predict the prices of different home unit across the city and also provide a list of venues closeby. By providing this information we are hoping that the company will have enough information to go with while helping thier clients*.\n",
    "\n",
    "Data Sources: **https://www.kaggle.com/neelkamal692/delhi-house-price-prediction\n",
    "              \n",
    "              \n",
    "              \n",
    "Foursquare Api to get the list of venues  "
   ]
  },
  {
   "cell_type": "markdown",
   "metadata": {},
   "source": [
    "# Methodology section"
   ]
  },
  {
   "cell_type": "markdown",
   "metadata": {},
   "source": [
    "*New Delhi is one of India's largest city so it would not be possible to know the price of each and every single unit. However by using the dataset which is of different neighbourhoods spread across the city we can see what type of houses sell for more, what factors cause the price of a house to increase and by using the Foursquare Api we can place the longitude and Latitude values in an area which is in the center to each neighbour to find out different venues within a 500 radius*\n",
    "\n",
    "Exploratory data analysis performed: We used Data Visualization tools like seaborn to visualize data and compare different types of houses and thier features which affect thier price.We also used Machine learning techniques to create a model using linear regression to predict house prices by adding the features with a postive correlation by calculating the P-Value\n",
    "\n"
   ]
  },
  {
   "cell_type": "markdown",
   "metadata": {},
   "source": [
    "## Results"
   ]
  },
  {
   "cell_type": "markdown",
   "metadata": {},
   "source": [
    "### *After completing our analysis we were able to make the following observations*:\n",
    "\n",
    "##### Semi furnished units sell more compared to unfurnished and furnished\n",
    "##### Builder floor type units sell for compared to apartments \n",
    "##### A unit with more bathrooms has a very strong linear relationship with price and will always have a higher price compared to other factors\n",
    "##### Per_Sqft and BHK also have a good linear relationship with price but not as strong as bathroom\n",
    "##### There are typically 11 categories of different venues on average from the center of all these neighbourhoods \n"
   ]
  },
  {
   "cell_type": "markdown",
   "metadata": {},
   "source": [
    "## Conclusion"
   ]
  },
  {
   "cell_type": "markdown",
   "metadata": {},
   "source": [
    "*After performing our analysis and collecting the results we can safely say that we have enough information from the data to provide the real-estate company. This information will defintely help thier clients make better decisions while buying a proprety across the city "
   ]
  }
 ],
 "metadata": {
  "kernelspec": {
   "display_name": "Python 3",
   "language": "python",
   "name": "python3"
  },
  "language_info": {
   "codemirror_mode": {
    "name": "ipython",
    "version": 3
   },
   "file_extension": ".py",
   "mimetype": "text/x-python",
   "name": "python",
   "nbconvert_exporter": "python",
   "pygments_lexer": "ipython3",
   "version": "3.7.6"
  }
 },
 "nbformat": 4,
 "nbformat_minor": 4
}
